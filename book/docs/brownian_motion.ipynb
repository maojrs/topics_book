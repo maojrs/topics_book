{
 "cells": [
  {
   "cell_type": "markdown",
   "metadata": {},
   "source": [
    "# Brownian motion"
   ]
  },
  {
   "cell_type": "code",
   "execution_count": null,
   "metadata": {},
   "outputs": [],
   "source": [
    "import numpy as np\n",
    "import matplotlib.pyplot as plt\n",
    "from ipywidgets import interact\n",
    "from bokeh.layouts import column, row\n",
    "from bokeh.models import CustomJS, Slider\n",
    "from bokeh.plotting import ColumnDataSource, figure, output_file, show\n",
    "from bokeh.io import output_notebook\n",
    "output_notebook(hide_banner =  True)"
   ]
  },
  {
   "cell_type": "code",
   "execution_count": null,
   "metadata": {
    "tags": [
     "hide-input"
    ]
   },
   "outputs": [],
   "source": [
    "%%HTML\n",
    "<video width=\"400\" controls>\n",
    "  <source src=\"../_static/lecture_specific/brownian_motion/brownian_motion_nanoparticles_in_water-rutger_saly_youtube.mp4\" type=\"video/mp4\">\n",
    "</video>"
   ]
  },
  {
   "cell_type": "markdown",
   "metadata": {},
   "source": [
    "## 1. Historical background overview\n",
    "(based on {cite}`nelson2020dynamical` Dynamical theories of Brownian motion by Edward Nelson)\n",
    "- In the early 1800's, the botanist Robert Brown studied the apparently random movement of pollen particles suspended in water, now called Brownian motion. Since practically anyone looking at water through a microscope was able to see little things moving around, he did not discover Brownian motion. However, he did establish Brownian motion as an important phenomenon, and he ruled out the hypothesis that the effect was life-related.\n",
    "- The phenomenon continued to be studied by several scientists. By 1905, the kinetic theory, that Brownian motion of microscopic particles is caused by bombardment by the molecules of the fluid, seemed the most plausible. However, the attempts failed due to the fractal nature of the velocity of Brownian particles.\n",
    "- In 1905, Einstein's publishes in one of his Annus Mirabilis papers, where he developed the statistical mechanics and the molecular-kinetic theory of thermodynamics. He did this mostly unaware of the existence of the phenomenon and previous studies. The theory was correct and described consistently the experimental observations of Brownian motion.\n",
    "- Despite having developed a succesful theory, Einstein's theory does not give a dynamical theory of Brownian motion; it only determines the nature of the motion and the value of the diffusion coefficient on the basis of some assumptions. Smoluchowski and Langevin, independently from Einstein, attempted a dynamical theory, and arrived to similar results. These dynamic theory of Brownian motion was the birth of the field of stochastic differential equations.\n",
    "- The agreement of these considerations with experience together with Planck’s determination of the true molecular size from the law of radiation (for high temperatures) convinced the sceptics, who were quite numerous at that time (Ostwald, Mach) of the reality of atoms."
   ]
  },
  {
   "cell_type": "markdown",
   "metadata": {},
   "source": [
    "## 2. Fick's law and Einstein relation\n",
    "\n",
    "Consider a suspension of many Brownian particles in a fluid/solvent. The concentration of particles in space is given by $\\rho(x)$. To simplify the calculation, we will assume we measure the concentration at different points in a large tube, i.e. we restrict ourselves to one dimension. \n",
    "\n",
    ":::{figure,myclass} fig-tube\n",
    "<img src=\"../_static/lecture_specific/brownian_motion/tube.png\" alt=\"tube\" class=\"bg-white mb-2\" width=\"200px\">\n",
    "\n",
    "Illustration of tube with Brownian particles!\n",
    ":::"
   ]
  },
  {
   "attachments": {},
   "cell_type": "markdown",
   "metadata": {},
   "source": [
    "Fick's law postulates that the flux of particles goes from regions of high concentration to regions of low concentration. For instance, when dropping a drop of blue ink in a glass water, it will diffuse from the drop (high-conentration) to the rest of the water (low concentration) until it is evenly distirbuted. More specifically, it relates the diffusive flux $J_\\text{diffusion}$ to the derivative of the concentration (the gradient in higher dimensions).\n",
    "\n",
    "$$\n",
    "J_\\text{diffusion}=-D \\frac{\\partial \\rho(x)}{\\partial x} ,\n",
    "$$\n",
    "\n",
    "The flux is the rate of transfer of particles through a unit area. It is pproprtional to the difference in concentration (the derivative), and it is proportional to some diffusion coefficient $D$, which may be different for different particles and solvents.\n",
    "\n",
    "\n",
    "Now, assume the particles are subjected to some arbitrary external force $F$ (e.g. gravity), and thus particles will naturally drift towards the direction they are being pushed by this force. Thus, the flux of particles due to this force will be \n",
    "\n",
    "$$\n",
    "J_\\text{drift} = \\frac{1}{\\gamma}\\rho(x)F,\n",
    "$$\n",
    "\n",
    "where $\\gamma$ is the corresponding friction coefficient. Higher friction implies less particle flux and viceversa. Conversely, higher concentration and larger force will imply larger flux, so must also be proportional to $\\rho$ and $F$. Conservative forces, such as gravity, can be written as the derivative of a potential function $U(\\mathbf{x})$ (the gradient in higher dimensions),\n",
    "\n",
    "$$\n",
    "F=-\\frac{\\partial U(x)}{\\partial x} \n",
    "$$\n",
    "\n",
    "An analogy to understand the potential is to think of the potential function as a slide for a marble. The force felt by the marble will be proportional to the slope of the slide, i.e. the derivate of the potential function :\n",
    "\n",
    ":::{figure,myclass} fig-potential\n",
    "<img src=\"../_static/lecture_specific/brownian_motion/potential.png\" alt=\"potential\" class=\"bg-white mb-2\" width=\"200px\">\n",
    "\n",
    "Illustration of a potential function!\n",
    ":::\n",
    "\n",
    "The minus sign is just a convention.\n",
    "\n",
    "In equilibrium, forces are equilibrated, so there is no net flux of particles anywhere in space. Thus $J_\\text{diffusion} + J_\\text{drift} = 0$. Substituting, we obtain\n",
    "\n",
    "$$\n",
    "-D \\frac{\\partial \\rho(x)}{\\partial x} - \\frac{1}{\\gamma}\\rho(x)\\frac{\\partial  U(x)}{\\partial x} = 0.\n",
    "$$\n",
    "\n",
    "From Statistial mechanics, ona can obtain that the Brownian particles in the solvent follow the Boltzman distribution when they reach equilibrium, so the concentration has the profile\n",
    "\n",
    "$$\n",
    "\\rho(\\mathbf{x}) = A\\exp \\Big(-\\frac{U(x)}{k_B T}\\Big)\n",
    "$$\n",
    "\n",
    "where $k_B$ is the Boltzmann constant, a proportionality constant relating average relative kinetic energy of particles in a fluid with its temperature $T$; $A$ is a constant related to the total number of Brownian particles. Differentiating this equation using the chain rule (omitting $x$ dependence to simplify notation),\n",
    "\n",
    "$$\n",
    "\\frac{\\partial \\rho}{\\partial x}  = \\frac{\\partial \\rho}{\\partial U} \\frac{\\partial U}{\\partial x} =-\\frac{1}{k_B T}\\rho\\frac{\\partial U}{\\partial x} \n",
    "$$\n",
    "\n",
    "Substituting this into the flux balance equation, we obtain\n",
    "\n",
    "$$\n",
    "D \\frac{1}{k_B T}\\rho\\frac{\\partial U}{\\partial x} - \\frac{1}{\\gamma}\\rho \\frac{\\partial  U}{\\partial x} = 0.\n",
    "$$\n",
    "\n",
    "which simplifies to\n",
    "\n",
    "$$\n",
    "D = \\frac{k_B T}{\\gamma}.\n",
    "$$\n",
    "\n",
    "This is called the Einstein relation and it relates the diffusion of Brownian particles quantified by the diffusion coefficient $D$ with the dissipation quantified by the friction coefficient $\\gamma$. A more general form of this result is called the fluctuation–dissipation theorem since it relates fluctuations (diffusion) and dissipation (friction). This was one of the main results in Einstein's 1905 paper."
   ]
  },
  {
   "cell_type": "markdown",
   "metadata": {},
   "source": [
    "## 2. Brownian motion and Brownian simulations\n",
    "We have talked about some equilibrium properties of Brownian motion. However, we have not yet studied the dynamics of individual Brownian particles. These dynamics correspond to the microscopic theory (bottom). As the formal theory to describe Brownian motion is quite involved, perhaps a more accesible approach to introduce it is through numerical simulations. \n",
    "\n",
    "Consider a Brownian particle with position $x(t)$ at time $t$ in one dimension. We would like to develop a numerical scheme capable of calculating the position of the particle a time interval $\\Delta t=1$ later, i.e $x(t+\\Delta t)$. As Brownian motion is random, we expect to add a random number $R$,\n",
    "\n",
    "$$\n",
    "x(t+\\Delta t) = x(t) + R.\n",
    "$$\n",
    "\n",
    "This random number however must be sampled from some distribution. As the particles seems likely to stay in the same area, small movements seem much more likely than large ones. Furthermore, it seems every direction is equally likely, so a natural candidate is a standard normal distribution (Gaussian); \n",
    "\n",
    "$$\n",
    "\\frac{1}{\\sqrt{2\\pi}}\\exp \\Big( -\\frac{x^2}{2} \\Big),\n",
    "$$"
   ]
  },
  {
   "cell_type": "code",
   "execution_count": null,
   "metadata": {},
   "outputs": [],
   "source": [
    "# Simple Bokeh plot of 2D Brownian trajectory\n",
    "plot = figure(plot_width=300, plot_height=300, match_aspect=True, tools=\"pan,wheel_zoom,reset\")\n",
    "plot.line(xpositions, ypositions, line_width=2, line_alpha=0.6)\n",
    "plot.toolbar.logo = None\n",
    "show(plot)"
   ]
  },
  {
   "cell_type": "code",
   "execution_count": null,
   "metadata": {},
   "outputs": [],
   "source": [
    "# Plot standard normal distribution\n",
    "x = np.linspace(-4,4,40)\n",
    "y = 1/np.sqrt(2 * np.pi) * np.exp(-x*x/2)\n",
    "plt.plot(x,y)\n",
    "plt.title(\"Normal distirbution\");\n",
    "plt.xlabel(\"x\");"
   ]
  },
  {
   "cell_type": "markdown",
   "metadata": {},
   "source": [
    "In python one can easily draw random numbers following this distribution by using the function: "
   ]
  },
  {
   "cell_type": "code",
   "execution_count": null,
   "metadata": {},
   "outputs": [],
   "source": [
    "np.random.normal(0,1)"
   ]
  },
  {
   "cell_type": "markdown",
   "metadata": {},
   "source": [
    "The two numbers, $0$ and $1$ refer to the mean and standard deviation of the normal distribution. For a standard normal distriution, these are zero and one, respectively. It is easy to test the sampled numbers actually follow a normal distribution. Lets sample a large number of values that follow this distribution and plot their distribution:"
   ]
  },
  {
   "cell_type": "code",
   "execution_count": null,
   "metadata": {},
   "outputs": [],
   "source": [
    "# Sample random values from a standard normal distibution\n",
    "values = []\n",
    "num_samples = 2000\n",
    "for i in range(num_samples):\n",
    "    r = np.random.normal(0,1)\n",
    "    values.append(r)\n",
    "\n",
    "# Plot histogram of sampled numbers (normalized frequency distribution)\n",
    "plt.hist(values,30, density=True, label=\"Histogram of sampled numbers distribution\")\n",
    "plt.plot(x,y, lw =2, label=\"Standard normal distribution\")\n",
    "plt.ylim([0,0.55])\n",
    "plt.legend();"
   ]
  },
  {
   "cell_type": "markdown",
   "metadata": {},
   "source": [
    "We denote a random number sampled from this dstirbution as $\\mathcal{N}(0,1)$. Now we can write the equation for the time evolution of the position of the Brownian particle as\n",
    "\n",
    "$$\n",
    "x(t+\\Delta t) = x(t) + \\sigma \\mathcal{N}(0,1),\n",
    "$$\n",
    "\n",
    "where we added a coefficient $\\sigma$ to scale how fast the particle can move. Note that the particle is likely to move farther away if $\\Delta t$ is larger. In such case, we need to modify the variance of our normal distribution. However if we simply assume $\\Delta t =1$, everything remains consistent. \n",
    "\n",
    "With this equation we can simulate a Brownian trajectory and plot it as a fucntion of time:"
   ]
  },
  {
   "cell_type": "code",
   "execution_count": null,
   "metadata": {},
   "outputs": [],
   "source": [
    "# One dimensional simulation of one Brownian particle\n",
    "xlist=[0]\n",
    "sigma = 1\n",
    "max_steps = 250\n",
    "for i in range(max_steps):\n",
    "    xcurrent = xlist[i] \n",
    "    xnew = xcurrent + sigma * np.random.normal(0,1)\n",
    "    xlist.append(xnew)\n",
    "    \n",
    "# Plot position as function of time\n",
    "plt.plot(xlist)\n",
    "plt.xlabel(\"time\")\n",
    "plt.ylabel(\"position\")"
   ]
  },
  {
   "cell_type": "markdown",
   "metadata": {},
   "source": [
    "We can easily extend this to two or more dimensions by sampling a random number the same way for each additional axis. Thus we can simulate a Brownian trajectory in two dimensions as follows"
   ]
  },
  {
   "cell_type": "code",
   "execution_count": null,
   "metadata": {},
   "outputs": [],
   "source": [
    "# Two dimensional simulation of one Brownian particle\n",
    "max_steps = 401\n",
    "position = np.zeros([max_steps, 2]) # initial position (0,0)\n",
    "sigma = 1\n",
    "for t in range(max_steps - 1):\n",
    "    position[t+1] = position[t] + sigma * np.random.normal(0,1,2)"
   ]
  },
  {
   "cell_type": "markdown",
   "metadata": {},
   "source": [
    "We use this data to produce an interactive plot with Bokeh. You can adjust the time slider to see the movement of the Brownian particle. The code to produce the interactive plot is also available."
   ]
  },
  {
   "cell_type": "code",
   "execution_count": null,
   "metadata": {
    "tags": [
     "hide-input"
    ]
   },
   "outputs": [],
   "source": [
    "# Bokeh interactive plot code\n",
    "minval = np.min(position)\n",
    "maxval = np.max(position)\n",
    "\n",
    "xpositions = position[:,0]\n",
    "ypositions = position[:,1]\n",
    "\n",
    "source = ColumnDataSource(data=dict(x=xpositions, y=ypositions))\n",
    "original = ColumnDataSource(data=dict(x=xpositions, y=ypositions))\n",
    "source_dot = ColumnDataSource(data=dict(x=[xpositions[-1]], y=[ypositions[-1]]))\n",
    "\n",
    "\n",
    "plot = figure(x_range=(minval, maxval), y_range=(minval, maxval), plot_width=400, \n",
    "              plot_height=400, toolbar_location=None)\n",
    "plot.title.text = '2D Brownian trajectory'\n",
    "plot.title.text_font_size = '12pt'\n",
    "\n",
    "plot.line('x', 'y', source=source, line_width=2, line_alpha=0.6)\n",
    "plot.circle('x', 'y', source=source_dot, size = 10, alpha=0.6, color=\"red\")\n",
    "\n",
    "time_slider = Slider(start=0, end=max_steps-1, value=max_steps-1, step=1, title=\"Time\")\n",
    "\n",
    "callback = CustomJS(args=dict(source=source, original=original, source_dot=source_dot, time=time_slider),\n",
    "                    code=\"\"\"\n",
    "    const data = source.data;\n",
    "    const data_dot = source_dot.data;\n",
    "    const original_data = original.data\n",
    "    const t = time.value;\n",
    "    const x = data['x']\n",
    "    const y = data['y']\n",
    "    const xtrue = original_data['x']\n",
    "    const ytrue = original_data['y']\n",
    "    const xdot = data_dot['x']\n",
    "    const ydot = data_dot['y']\n",
    "    for (var i = 0; i < x.length; i++) {\n",
    "        if (i < t) {\n",
    "            x[i] = xtrue[i]\n",
    "            y[i] = ytrue[i]\n",
    "        } else {\n",
    "            x[i] = xtrue[t]\n",
    "            y[i] = ytrue[t]\n",
    "        }\n",
    "    }\n",
    "    xdot[0] = xtrue[t] \n",
    "    ydot[0] = ytrue[t] \n",
    "    source.change.emit();\n",
    "    source_dot.change.emit();\n",
    "\"\"\")\n",
    "\n",
    "time_slider.js_on_change('value', callback)\n",
    "\n",
    "layout = row(\n",
    "    plot,\n",
    "    column(time_slider),\n",
    ")\n",
    "\n",
    "show(layout)"
   ]
  },
  {
   "cell_type": "markdown",
   "metadata": {},
   "source": [
    "Note every time the code is simulated the trajectory will be different since it is resampled every time.\n",
    "\n",
    "For the interested reader, this is actually a discretization of a stochastic differential equation: $dX_t=\\sigma dW_t$, which is the equation for standard Brownian motion. The corresponding discretization of the equation used to do the simulation corresponds to the Euler-Maruyama scheme."
   ]
  },
  {
   "cell_type": "markdown",
   "metadata": {},
   "source": [
    "## 3. Emergence of diffusion equation"
   ]
  },
  {
   "cell_type": "markdown",
   "metadata": {},
   "source": [
    "Although each Brownian particle follows a random trajectory, from the motion of a large collection/ensemble of these particles emerges a deterministic and predictable behavior. Mathematically one can show that from the ensemble dynamics of many Brownian particles a deterministic diffusion equation emerges. As these calculations are beyond the scope of this lecture, we derive the diffusion equation in a simpler way, and we later use a numerical approach to show the emergence of diffusion. In this case, the diffusion equation corresponds to the macroscopic theory (top). One of the main features of the macroscopic theory here is that it is deterministic and thus has a strong predictive power.\n",
    "\n",
    "We begin with a derivation of the diffusion equation. As mass is conserved, we can write an equation for the conservation of Brownian particles. This will be in the form of a differential equations, which is nothing more than an equation that involves derivatives. Assume again the concentration of Brownian particles is $\\rho(x,t)$, where we now make the concentration time-dependent. We keep the one dimensional assumption to keep things simple. Then the conservation of particles can be written as follows:\n",
    "\n",
    "$$\n",
    "\\frac{\\partial \\rho}{\\partial t} = \\frac{J(x+\\Delta x) - J(x)}{\\Delta x}\n",
    "$$\n",
    "\n",
    "where $J$ is the flux of particles. The equation means that the change of number of particles in asmall volume $\\Delta x$ during an infinitesimal time interval equals to the number of particles that flowed into the volume minus the ones that flowed out of it during that time interval. Of course one can take the limit as $\\Delta x \\rightarrow 0$ to obtain \n",
    "\n",
    "$$\n",
    "\\frac{\\partial \\rho}{\\partial t} + \\frac{\\partial}{\\partial x} J = 0,\n",
    "$$\n",
    "\n",
    "We can substitute Fick's law into this equation and obtain\n",
    "\n",
    "$$\n",
    "\\frac{\\partial \\rho}{\\partial t} = -\\frac{\\partial}{\\partial x} \\Big( -D \\frac{\\partial \\rho(x)}{\\partial x} \\Big),\n",
    "$$\n",
    "\n",
    "which simplifies to\n",
    "\n",
    "$$\n",
    "\\frac{\\partial \\rho}{\\partial t} = D\\frac{\\partial^2 \\rho(x)}{\\partial x^2}.\n",
    "$$\n",
    "\n",
    "This is another differential equation (partial differential equation), called the diffusion equation. We won't solve it here, but its solution is quite simple. Assuming all the particles are concentrated at $x=0$ at time 0, the solution is\n",
    "\n",
    "$$\n",
    "\\rho(x,t) = \\frac{1}{ \\sqrt{4\\pi D t}} \\exp \\Big( -\\frac{x^2}{4Dt}\\Big).\n",
    "$$\n",
    "\n",
    "This is a function of time and space, so to better understand it, we can do a small animation of the solution"
   ]
  },
  {
   "cell_type": "code",
   "execution_count": null,
   "metadata": {},
   "outputs": [],
   "source": [
    "# Define difussion coefficient\n",
    "D = 1\n",
    "\n",
    "# Define plotting solution function\n",
    "def rho_plot(time):\n",
    "    x = np.linspace(-5,5,25)\n",
    "    A = 1/np.sqrt(4 * np.pi * D * time)\n",
    "    rho = A * np.exp(-x*x/(4 * D * time))\n",
    "    plt.plot(x,rho)\n",
    "    plt.ylim(0,0.5)\n",
    "    plt.ylabel(r'$\\rho(x)$')\n",
    "    plt.xlabel(r'$x$')\n",
    "\n",
    "# Create interactive plot\n",
    "interact(rho_plot,time=(0.1,5,0.5));"
   ]
  },
  {
   "cell_type": "markdown",
   "metadata": {},
   "source": [
    "Although here we used Fick's law to derive the diffusion equation, it is not neccesary. It can be derived directly from the microscopic Brownian dynamics. However, that is beyond the scope of this lecture, so we will try to show that this is true by doing numerical simulations."
   ]
  },
  {
   "cell_type": "markdown",
   "metadata": {},
   "source": [
    "## 4. Numerical validation of emergent diffusion"
   ]
  },
  {
   "cell_type": "markdown",
   "metadata": {},
   "source": [
    "In this section, we will show how the diffusion equation for the concentration of Brownian particles emerges from the microscopic dynamics of individual Brownian particles. In order to do so, we will follow the next steps:\n",
    " \n",
    " 1. Simulate a large number of identical Brownian particles in one dimension.\n",
    " 2. Discretize space in intevals of equal length.\n",
    " 3. Calculate the corresponding concentration of Brownian particles on each interval.\n",
    " 4. Plot the concentration as a histogram for different times\n"
   ]
  },
  {
   "cell_type": "code",
   "execution_count": null,
   "metadata": {},
   "outputs": [],
   "source": [
    "x0 = 0 # initial position for all particles\n",
    "sigma = 1\n",
    "max_steps = 250\n",
    "num_particles = 500\n",
    "\n",
    "# Function to integrate the trajetory of one Brownian particle in one dimension (x0 initial position)\n",
    "def integrate_brownian(xinitial):\n",
    "    xlist=[xinitial]\n",
    "    for i in range(max_steps):\n",
    "        xcurrent = xlist[i] \n",
    "        xnew = xcurrent + sigma * np.random.normal(0,1)\n",
    "        xlist.append(xnew)\n",
    "    return np.array(xlist)\n",
    "\n",
    "# Integrate Brownian trajetory of all Brownian particles and saves all the data into\n",
    "# brownian_trajectories (calls integrate_brownian)\n",
    "brownian_trajectories = []\n",
    "for i in range(num_particles):\n",
    "    brownian_trajectory = integrate_brownian(x0)\n",
    "    brownian_trajectories.append(brownian_trajectory)\n",
    "\n",
    "# Function to extract positions of all the Brownian particles at a given time step    \n",
    "def extract_positions(timestep):\n",
    "    positions = []\n",
    "    for i in range(num_particles):\n",
    "        positions.append(brownian_trajectories[i][timestep])\n",
    "    return positions\n",
    "\n",
    "# Function to plot the histogram of the particles distribution at a given time step\n",
    "def plot_particles_distribution(timestep):\n",
    "    positions = extract_positions(timestep)\n",
    "    plt.hist(positions, 30, density=True, label=\"Distribution of Brownian particles\")\n",
    "    plt.xlim([-50,50])\n",
    "    plt.ylim([0,0.1])\n",
    "    plt.legend()\n",
    "\n",
    "# Interactive plot of particles distribution\n",
    "interact(plot_particles_distribution, timestep=(1,max_steps,10));"
   ]
  },
  {
   "cell_type": "markdown",
   "metadata": {},
   "source": [
    "This looks very similar to the profile obtained when solving the diffusion equation. Note we used $\\sigma =1$ for the simulation. There is actually a relation between sigma and the diffusion coefficient \n",
    "\n",
    "$$\n",
    "D = \\frac{\\sigma^2}{2}.\n",
    "$$\n",
    "\n",
    "We will leave this derivation for an excercise. If $\\sigma=1$, then $D=1/2$. As the solution of the diffusion equation we know is \n",
    "\n",
    "$$\n",
    "\\rho(x) = \\frac{1}{ \\sqrt{4\\pi D t}} \\exp \\Big( -\\frac{x^2}{4Dt}\\Big).\n",
    "$$\n",
    "\n",
    "We can compare it with our result:"
   ]
  },
  {
   "cell_type": "code",
   "execution_count": null,
   "metadata": {},
   "outputs": [],
   "source": [
    "# Set diffusion coefficient to matching value\n",
    "D = 1/2\n",
    "\n",
    "# Plot comparison between the histogram of the particles distribution and the solution of the corresponding\n",
    "# emergent diffusion equation at a given time step\n",
    "def plot_comparison(timestep):\n",
    "    t = 1 * timestep\n",
    "    # Plot histogram of concentrations\n",
    "    positions = extract_positions(timestep)\n",
    "    plt.hist(positions, 30, density=True, label=\"Distribution of Brownian particles\")\n",
    "    # Plot solution to diffusion equation    \n",
    "    x = np.linspace(-50,50,25)\n",
    "    A = 1/np.sqrt(4 * np.pi * D * t)\n",
    "    rho = A * np.exp(-x*x/(4 * D * t))\n",
    "    plt.plot(x, rho, lw=2, label= \"Solution of diffusion equation\")\n",
    "    plt.xlabel(r'$x$')\n",
    "    plt.xlim([-50,50])\n",
    "    plt.ylim([0,0.1])\n",
    "    plt.legend()\n",
    "\n",
    "    \n",
    "interact(plot_comparison, timestep=(5,max_steps,10));"
   ]
  },
  {
   "cell_type": "markdown",
   "metadata": {},
   "source": [
    "This shows the macroscopic diffusion is really an emergent behavior from the ensemble of microscopic Brownian particles. Note that using Einstein's relation, we can write the dynamics of the Brownian walkers as\n",
    "\n",
    "$$\n",
    "x(t+1) = x(t) + \\sqrt{2D}\\mathcal{N}(0,1)  \\\\[5mm]\n",
    "       = x(t) + \\sqrt{\\frac{2k_B T}{\\gamma}}\\mathcal{N}(0,1),\n",
    "$$\n",
    "\n",
    "where $\\Delta t= 1$. For a general $\\Delta t$ it can be written as \n",
    "\n",
    "$$\n",
    "x(t+\\Delta t) = x(t) + \\sqrt{\\frac{2k_B T \\Delta t}{\\gamma}}\\mathcal{N}(0,1),\n",
    "$$\n",
    "\n",
    "which corresponds to the discretization of the stochastic differential equation\n",
    "\n",
    "$$\n",
    "dX_t = \\sqrt{\\frac{2k_B T}{\\gamma}} dW_t.\n",
    "$$\n",
    "\n",
    "However, this is beyond the scope of this lecture. Further investigation of this topic is left as a possible project."
   ]
  },
  {
   "cell_type": "markdown",
   "metadata": {},
   "source": [
    "## 5. Concluding remarks\n",
    "\n",
    "- We derived the Einstein relation that establishes a relation between diffusion and dissipation in Brownian particles. This is a fundamental result to connect the microscopic world described by the dynamics of particles with the macroscopic emergent phenomena such as diffusion. \n",
    "\n",
    "- We introduced the dynamics of individual Brownian particles through a simulation scheme, and we showed how it can be extended to two (or more) dimensions. We hint at the connection to the field of stochastic differential equations, which is the mathematically correct approach to understand Brownian motion. This theory correspond to the microscopic theory (bottom).\n",
    "\n",
    "- We showed that the diffusion equation emerges from the dynamics of a large number of Brownian particles. This corresponds to the macroscopic theory (top). Although we used Fick's law (an emergent law) to derive the equation. It can be done without it, but it requires more advanced techniques. This is left as a possible project.\n",
    "\n",
    "- To really show the macroscopic diffusion emerges from the dynamics of a large number of individual Brownian particles, we implemented numerical validation, and we compared the results with the solution to the corresponding diffusion equation. We finally show the final form of the stochastic differential equation for Brownian motion.\n",
    "\n",
    "The studies of Brownian motion not only provided a physical theory to describe Brownian movement; they also gave birth to the field of stochastic differential equations. These equations describe trajectories that are nowhere differentiable, such as idealized Brownian trajectories, and thus require a different type of calculus called Ito calculus. Furthermore, each system of stochastic differential equations has a corresponding emergent \"diffusion\" equation called the Fokker-Planck equation. This yields a fundamental duality; the stochastic dynamics of individual particles/agents together with the probabilistc dynamics of an ensemble of identical particles/agents are two sides of the same underlying process, an stochastic process. Today, these equations are used in applications ranging from molecular biology to financial mathematics. "
   ]
  },
  {
   "cell_type": "markdown",
   "metadata": {},
   "source": [
    "## Exercises"
   ]
  },
  {
   "cell_type": "markdown",
   "metadata": {},
   "source": [
    "1. What is the Einstein's relation for a spherical particle with radius R in a liquid with low Reynolds number and viscosity $\\eta$?   (Hint: Investigate the friction of a spherical particle under these conditions and note the friction force equals the velocity times the friction coefficient.)\n",
    "\n",
    "\n",
    "2. The equation for the time evolution of the position of the Brownian particle as $ x(t+1) = x(t) + \\sigma \\mathcal{N}(0,1)$ (since we assumed $\\Delta t = 1$). Add a term of the form $-\\theta x(t)$ with theta a positive constant, then modify the code and implement a simulation of its trajectory in one dimension starting at $x=0$, $\\theta=0.01$ and $\\sigma = 1$. Plot the position as a function of time. Can you notice anything different? If you don't try plotting the solution for a larger time interval (increase max_steps) and compare with the Brownian motion case $\\theta = 0$.  \n",
    "    \n",
    "    Remember adding the lines \"*import numpy as np*\" and \"*import matplotlib.pyplot as plt*\" at the beginning of your notebook.\n",
    "    \n",
    "\n",
    "3. The process simulated in excercise 2 is called ''the Ornstein–Uhlenbeck process''. Investigate its corresponding 'diffusion' equation. In the literature, the 'diffusion' equation for an arbitrary process is refered as the Fokker-Planck equation. What type of equation is this?\n",
    "\n",
    "\n",
    "4. The solution of the Fokker-Planck equation for the Ornstein–Uhlenbeck process from excercise 3 has the form:\n",
    "\n",
    "    $$\n",
    "    \\rho(x,t) = \\sqrt{\\frac{\\theta}{2\\pi D (1-e^{-2\\theta t})}} \\exp{\\Bigg(-\\frac{\\theta x^2}{2D (1-e^{-2\\theta t})} \\Bigg)},\n",
    "    $$\n",
    "    assuming all the particles are concentrated at $x=0$ at time $t=0$.\n",
    "\n",
    "    Numerically show how a large collection of simulated trajectories (excercise 2) produce an emergent behavior by plotting a histogram of the particles distribution. Remember we used $\\sigma =1$ and $\\theta =0.01$. Check this behavior matches the one given by the solution to the corresponding Fokker-Planck equation. (Hint: Copy and modify the code in section 4 of the lecture. To run the code you might need to install ipywidgets to be able to import \"*from ipywidgets import interact*\")"
   ]
  },
  {
   "cell_type": "markdown",
   "metadata": {},
   "source": [
    "```{bibliography} ../_bibliography/references.bib\n",
    ":style: unsrt\n",
    ":filter: docname in docnames\n",
    "```"
   ]
  },
  {
   "cell_type": "code",
   "execution_count": null,
   "metadata": {},
   "outputs": [],
   "source": []
  }
 ],
 "metadata": {
  "kernelspec": {
   "display_name": "Python 3",
   "language": "python",
   "name": "python3"
  },
  "language_info": {
   "codemirror_mode": {
    "name": "ipython",
    "version": 3
   },
   "file_extension": ".py",
   "mimetype": "text/x-python",
   "name": "python",
   "nbconvert_exporter": "python",
   "pygments_lexer": "ipython3",
   "version": "3.8.5"
  }
 },
 "nbformat": 4,
 "nbformat_minor": 4
}
