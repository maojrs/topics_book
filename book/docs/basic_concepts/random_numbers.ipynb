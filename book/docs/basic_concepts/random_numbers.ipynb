{
 "cells": [
  {
   "cell_type": "markdown",
   "metadata": {},
   "source": [
    "(my-label)=\n",
    "# Random numbers"
   ]
  },
  {
   "cell_type": "code",
   "execution_count": null,
   "metadata": {
    "tags": [
     "hide-input"
    ]
   },
   "outputs": [],
   "source": [
    "import numpy as np\n",
    "from ipywidgets import interact\n",
    "import matplotlib.pyplot as plt\n",
    "plt.rcParams.update({'font.size': 14})\n",
    "# Bokeh libraries\n",
    "from bokeh.layouts import column, row\n",
    "from bokeh.models import CustomJS, Slider, WheelZoomTool, Legend, Span\n",
    "from bokeh.plotting import ColumnDataSource, figure, output_file, show\n",
    "from bokeh.palettes import Spectral11, Blues, viridis\n",
    "from bokeh.io import output_notebook\n",
    "output_notebook(hide_banner =  True)"
   ]
  },
  {
   "cell_type": "markdown",
   "metadata": {},
   "source": [
    "All randoms number must be sampled from some distribution. One example of sampling a random number is throwing a dice where one can obtain any integer number between $1$ and $6$ with equal probabilities. As getting every number from $1$ to $6$ is equally likely, we say we sample the numbers uniformly or from a uniform distribution. We can easily create a 'digital' dice with python with the function `np.random.randint(1,7)`. The code belows throws the dice five times and prints the results:"
   ]
  },
  {
   "cell_type": "code",
   "execution_count": null,
   "metadata": {},
   "outputs": [],
   "source": [
    "for i in range(5):\n",
    "    dice_result = np.random.randint(1,7)\n",
    "    print(\"Throw\", i+1, \":\", dice_result)"
   ]
  },
  {
   "cell_type": "markdown",
   "metadata": {},
   "source": [
    "To show that out digital dice is fair, we can simply throw the dice many times ($120,000$ times) and plot a histogram for the occurrences of each number. We can do this with the following:"
   ]
  },
  {
   "cell_type": "code",
   "execution_count": null,
   "metadata": {},
   "outputs": [],
   "source": [
    "all_results = []\n",
    "total_throws = 120000\n",
    "for i in range(total_throws):\n",
    "    dice_result = np.random.randint(1,7)\n",
    "    all_results.append(dice_result)\n",
    "    \n",
    "# Plot histogram of dice results\n",
    "num_throws, edges = np.histogram(all_results, bins=range(1,8))\n",
    "plt.bar(range(1,7), num_throws, alpha = 0.7, color='dodgerblue')\n",
    "plt.xlabel('Dice result', fontsize = 12);\n",
    "plt.ylabel('Number of throws', fontsize = 12);"
   ]
  },
  {
   "cell_type": "markdown",
   "metadata": {},
   "source": [
    "Although with some minor differences, every number in the dice was obtained the same number of times (~$20,000$ times). Thus, it seems it is a fair dice. We can easily translate this histogram into a probability distribution by dividing the number of throws of each number by the total number of throws. Doing this division, we obtain the probability distribution."
   ]
  },
  {
   "cell_type": "code",
   "execution_count": null,
   "metadata": {},
   "outputs": [],
   "source": [
    "# Plot disitrbution of dice results\n",
    "plt.bar(range(1,7), num_throws/total_throws, alpha = 0.7, color='dodgerblue')\n",
    "plt.xlabel('Dice result', fontsize = 12);\n",
    "plt.ylabel('Probability', fontsize = 12);"
   ]
  },
  {
   "cell_type": "markdown",
   "metadata": {},
   "source": [
    "The height of each column is around $1/6\\approx 0.1666$, and it corresponds to the probability of rolling any given  number in the dice. The probability of rolling any number from $1$ to $6$ is the sum of the probabilities of each number. This means $1/6 + 1/6 + 1/6 + 1/6 + 1/6 + 1/6 = 1$. This is a universal property of probabilities. The probabilities of all the possible events, should always sum to one.\n",
    "\n",
    "## Uniform distribution\n",
    "\n",
    "Random numbers are not limited to integer values like in a dice. For instance the function `np.random.uniform(xmin,xmax)` samples a random number uniformly in the interval $[xmin, xmax)$. We sample five values of this function with $x_\\text{min} = 0$ and $x_\\text{max}=100$:"
   ]
  },
  {
   "cell_type": "code",
   "execution_count": null,
   "metadata": {},
   "outputs": [],
   "source": [
    "xmin = 0\n",
    "xmax = 100\n",
    "for i in range(5):\n",
    "    random_number = np.random.uniform(xmin,xmax)\n",
    "    print(\"Trial\", i+1, \":\", random_number)"
   ]
  },
  {
   "cell_type": "markdown",
   "metadata": {},
   "source": [
    "We now show that the distribution of these numbers follows a uniform probability distribution. To do so, we separate our domain in $30$ bins to plot the histogram as before. To make sure it corresponds to a probability, we pass the argument `density=True` to the plotting function. This takes care of dividing the counts for each bin by the total number of trials automatically."
   ]
  },
  {
   "cell_type": "code",
   "execution_count": null,
   "metadata": {},
   "outputs": [],
   "source": [
    "all_numbers = []\n",
    "total_trials = 100000\n",
    "for i in range(total_trials):\n",
    "    random_number = np.random.uniform(xmin,xmax)\n",
    "    all_numbers.append(random_number)\n",
    "    \n",
    "# Plot histogram/distribution of random numbers\n",
    "plt.hist(all_numbers, bins=30, density = True, alpha = 0.5, \n",
    "         edgecolor='black', lw = 0.3, color='dodgerblue', label=\"Distribution of sampled numbers\")\n",
    "plt.plot([xmin, xmin,xmax, xmax], [0, 1/(xmax - xmin),1/(xmax - xmin), 0], lw =2, \n",
    "         label=\"Uniform distribution\", color='orange')\n",
    "plt.title('Uniform distribution', fontsize = 12)\n",
    "plt.xlabel('Random number', fontsize = 12);\n",
    "plt.ylabel('Number of trials (normalized)', fontsize = 12);\n",
    "plt.legend(fontsize = 12)"
   ]
  },
  {
   "cell_type": "markdown",
   "metadata": {},
   "source": [
    "This distribution followed by the sampling numbers corresponds to a uniform distribution since every real number between $x_\\text{min}$ and $x_\\text{max}$ is sampled uniformly. Also note the area covered by the histogram is around $0.01 \\times 100 = 1$, in the same way as the probabilities of all the numbers in the dice sum to one. In general, we can represent the uniform distribution as a constant line, as plotted in the previous figure:\n",
    "\n",
    "$$\n",
    "\\rho_\\text{uniform} = 1/(x_\\text{max} - x_\\text{min})\n",
    "$$ \n",
    "\n",
    "with $x$ between $x_\\text{min}$ and $x_\\text{max}$, such that the area covered by the distribution, or more precisely, the integral of the distribution is equal to 1:\n",
    "\n",
    "$$\n",
    "\\int_{x_\\text{min}}^{x_\\text{max}}\\rho_\\text{uniform}dx = \\frac{x_\\text{max} - x_\\text{min}}{x_\\text{max} - x_\\text{min}} = 1\n",
    "$$\n",
    "\n",
    "## Normal distribution\n",
    "\n",
    "Another famous distribution is the normal or Gaussian distribution. This distribution has the following form\n",
    "\n",
    "$$\n",
    "\\rho_\\text{normal}(x)=\\frac{1}{\\sigma\\sqrt{2\\pi}}\\exp \\Big( -\\frac{1}{2}\\left(\\frac{x-\\mu}{\\sigma}\\right)^2 \\Big),\n",
    "$$\n",
    "\n",
    "where $\\mu$ corresponds to the mean and $\\sigma$ to the standard deviation. It can be shown its integral from $-\\infty$ to $\\infty$ is always equal to one. Plotting this function, we obtain the shape of the normal distirbution. Try changing the mean and the variance to see how the distribution changes."
   ]
  },
  {
   "cell_type": "code",
   "execution_count": null,
   "metadata": {
    "tags": [
     "hide-input"
    ]
   },
   "outputs": [],
   "source": [
    "# Bokeh interactive plot code for normal distribution\n",
    "x = np.linspace(-4,4,80)\n",
    "y = 1/(np.sqrt(2 * np.pi)) * np.exp(-0.5*x**2)\n",
    "source = ColumnDataSource(data=dict(x=x, y=y))\n",
    "\n",
    "plot = figure(x_range=(-4, 4), y_range=(0, 1), plot_width=400, plot_height=300, tools=\"pan,wheel_zoom,reset\")\n",
    "plot.line('x', 'y', source=source, line_width=3, line_alpha=0.6, color='orange')\n",
    "plot.title.text = 'Normal distribution'\n",
    "plot.title.text_font_size = '12pt'\n",
    "plot.toolbar.logo = None\n",
    "\n",
    "mu_slider = Slider(start=-3.5, end=3.5, value=0, step=.1, title=\"Mean\")\n",
    "sigma_slider = Slider(start=0.1, end=3, value=1, step=.1, title=\"Standard deviation\")\n",
    "\n",
    "callback = CustomJS(args=dict(source=source, mu=mu_slider, sigma=sigma_slider),\n",
    "                    code=\"\"\"\n",
    "    const data = source.data;\n",
    "    const mean = mu.value;\n",
    "    const stddev = sigma.value;\n",
    "    const x = data['x']\n",
    "    const y = data['y']\n",
    "    for (var i = 0; i < x.length; i++) {\n",
    "        y[i] = 1/(stddev * Math.sqrt(2 * Math.PI)) * Math.exp(-0.5*((x[i]-mean)/stddev)**2)\n",
    "    }\n",
    "    source.change.emit();\n",
    "\"\"\")\n",
    "\n",
    "mu_slider.js_on_change('value', callback)\n",
    "sigma_slider.js_on_change('value', callback)\n",
    "\n",
    "layout = row(\n",
    "    plot,\n",
    "    column(mu_slider, sigma_slider),\n",
    ")\n",
    "\n",
    "show(layout)"
   ]
  },
  {
   "cell_type": "markdown",
   "metadata": {},
   "source": [
    "This distirbution implies that numbers closer to the mean value $\\mu$ are much more likely to be sampled than those far away from the mean value. In python one can easily draw random numbers following this distribution by using the `np.random.normal(mu,sigma)` function:"
   ]
  },
  {
   "cell_type": "code",
   "execution_count": null,
   "metadata": {},
   "outputs": [],
   "source": [
    "mu = 0\n",
    "sigma = 1\n",
    "for i in range(5):\n",
    "    random_number = np.random.normal(mu,sigma)\n",
    "    print(\"Trial\", i+1, \":\", random_number)"
   ]
  },
  {
   "cell_type": "markdown",
   "metadata": {},
   "source": [
    "We denote a random number sampled from this distribution as $\\mathcal{N}(\\mu,\\sigma)$, where $\\sigma^2$ is the variance and corresponds to the standard deviation squared. It is easy to test the sampled numbers actually follow a normal distribution. Lets sample a large number of values with this function and plot their distribution as before:"
   ]
  },
  {
   "cell_type": "code",
   "execution_count": null,
   "metadata": {},
   "outputs": [],
   "source": [
    "# Sample random values from a standard normal distibution\n",
    "values = []\n",
    "num_samples = 12000\n",
    "for i in range(num_samples):\n",
    "    r = np.random.normal(mu,sigma)\n",
    "    values.append(r)\n",
    "\n",
    "# Plot histogram of sampled numbers (normalized frequency distribution)\n",
    "plt.hist(values,30, density=True, alpha =0.5, color='dodgerblue', edgecolor='black', lw=0.3,\n",
    "         label=\"Histogram of sampled numbers distribution\")\n",
    "    \n",
    "# Plot probability distribution    \n",
    "x = np.linspace(-4,4,60)\n",
    "y = 1/(np.sqrt(2 * np.pi)) * np.exp(-0.5*x**2)\n",
    "plt.plot(x,y, lw =2, color='orange', label=\"Standard normal distribution\")\n",
    "plt.ylim([0,0.55])\n",
    "plt.legend(fontsize = 12);"
   ]
  },
  {
   "cell_type": "markdown",
   "metadata": {},
   "source": [
    "Now we know how to sample random numbers from uniform and normal/Gaussian distributions. "
   ]
  }
 ],
 "metadata": {
  "kernelspec": {
   "display_name": "Python 3",
   "language": "python",
   "name": "python3"
  },
  "language_info": {
   "codemirror_mode": {
    "name": "ipython",
    "version": 3
   },
   "file_extension": ".py",
   "mimetype": "text/x-python",
   "name": "python",
   "nbconvert_exporter": "python",
   "pygments_lexer": "ipython3",
   "version": "3.8.5"
  }
 },
 "nbformat": 4,
 "nbformat_minor": 4
}
