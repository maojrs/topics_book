{
 "cells": [
  {
   "cell_type": "markdown",
   "metadata": {},
   "source": [
    "# Advanced topics for high school math and science\n",
    "\n",
    "**by [Mauricio J. del Razo](http://maojrs.github.io)**\n",
    "\n",
    "---\n",
    "In this book we present advance topics for mathematics and science at the high school level. Each chapter consists of a specific application topic to serve as inspiration for a class final project or science fair."
   ]
  },
  {
   "cell_type": "markdown",
   "metadata": {},
   "source": [
    "## Table of contents \n",
    "(preliminary)\n",
    "\n",
    "1. [**Introduction**](./introduction.md)\n",
    "2. [**Brownian motion**](./brownian_motion.ipynb)\n",
    "2. Modeling pandemias\n",
    "3. Drawing fractals\n",
    "4. Bezier curves"
   ]
  },
  {
   "cell_type": "markdown",
   "metadata": {},
   "source": [
    "## Brainstorm subsections/parts\n",
    "- Mathematical biology\n",
    "    - Brownian motion\n",
    "    - Population growth and control\n",
    "    - Disease spreading and pandemias\n",
    "    - Pattern formation of chemical reactions\n",
    "- Astronomy\n",
    "    - The movement of planets\n",
    "    - Doppler effect\n",
    "- Art and computer graphics\n",
    "    - Fractals\n",
    "    - Logistic map/chaotic maps\n",
    "    - Bezier curves and others\n",
    "    - Quaternions\n",
    "    - Particle systems\n",
    "- Statistical physics/information/theory\n",
    "    - Entropy, the arrow of time and the force of probability\n",
    "- Artifical Inteligence\n",
    "    - My first neural network\n",
    "    - Deep neural network\n",
    "    - Face recognition\n",
    "- Climate modeling\n",
    "    - Global warming\n",
    "    - Oceans and currents\n",
    "- Mathematical models for social sciences\n",
    "    - The spread of fake news\n",
    "    - Six degrees of separation (based on social media)\n",
    "- Computational Finance\n",
    "    - Compound interest\n",
    "    - Loans and credits\n",
    "    - Economic crisis"
   ]
  },
  {
   "cell_type": "code",
   "execution_count": null,
   "metadata": {},
   "outputs": [],
   "source": []
  }
 ],
 "metadata": {
  "kernelspec": {
   "display_name": "Python 3",
   "language": "python",
   "name": "python3"
  },
  "language_info": {
   "codemirror_mode": {
    "name": "ipython",
    "version": 3
   },
   "file_extension": ".py",
   "mimetype": "text/x-python",
   "name": "python",
   "nbconvert_exporter": "python",
   "pygments_lexer": "ipython3",
   "version": "3.8.5"
  }
 },
 "nbformat": 4,
 "nbformat_minor": 4
}
