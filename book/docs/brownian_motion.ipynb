{
 "cells": [
  {
   "cell_type": "markdown",
   "metadata": {},
   "source": [
    "# Brownian motion"
   ]
  },
  {
   "cell_type": "code",
   "execution_count": null,
   "metadata": {
    "tags": [
     "hide-input"
    ]
   },
   "outputs": [],
   "source": [
    "import numpy as np\n",
    "from ipywidgets import interact\n",
    "import matplotlib.pyplot as plt\n",
    "plt.rcParams.update({'font.size': 14})\n",
    "# Bokeh libraries\n",
    "from bokeh.layouts import column, row\n",
    "from bokeh.models import CustomJS, Slider, WheelZoomTool, Legend\n",
    "from bokeh.plotting import ColumnDataSource, figure, output_file, show\n",
    "from bokeh.palettes import Spectral11, Blues, viridis\n",
    "from bokeh.io import output_notebook\n",
    "output_notebook(hide_banner =  True)"
   ]
  },
  {
   "cell_type": "markdown",
   "metadata": {},
   "source": [
    "In the early 1800's, the botanist Robert Brown studied the apparently random movement of pollen particles suspended in water. This random movement is now called Brownian motion. We can observe similar movements on dust particles floating on air. To introduce Brownian motion, we show below a video of nanoparticles (small particles) in water, as we can see, they jiggle randomly. This random jiggling is what we call Brownian motion, and we thus call these particles Brownian particles."
   ]
  },
  {
   "cell_type": "code",
   "execution_count": null,
   "metadata": {
    "tags": [
     "hide-input"
    ]
   },
   "outputs": [],
   "source": [
    "%%HTML\n",
    "<video width=\"400\" controls>\n",
    "  <source src=\"../_static/lecture_specific/brownian_motion/brownian_motion_nanoparticles_in_water-rutger_saly_youtube.mp4\" type=\"video/mp4\">\n",
    "</video>"
   ]
  },
  {
   "cell_type": "markdown",
   "metadata": {},
   "source": [
    "Although the movement of Brownian particles is random, we can ask ourselves if there is anything predictable about their movement? If there is some predictable behavior, maybe there is also predictable behavior in other effectively random systems, such as the economy, social networks and molecular biology.\n",
    "\n",
    "We would like to describe the movement of Brownian particles with a mathematical model. As the formal theory of Brownian motion is quite involved, perhaps a more accesible approach to introduce it is through computational simulations. \n",
    "\n",
    "Consider a Brownian particle with its position $x(t)$ a function of time $t$. We assume the particle only moves in one dimension, so it can only move left and right. Given the position at time $t=0$, we would like to calculate its position at a later time, say $t=1$ later. As Brownian motion is random, we expect to add a random number $R$,\n",
    "\n",
    "$$\n",
    "x(1) = x(0) + R.\n",
    "$$\n",
    "\n",
    "We can apply this formula again and obtain the position at time $t=2$, i.e $x(2)$. In general, for any given $t$, we can simply write\n",
    "\n",
    "$$\n",
    "x(t+1) = x(t) + R\n",
    "$$\n",
    "\n",
    "However, we still need to specify what we mean by a random number. "
   ]
  },
  {
   "cell_type": "markdown",
   "metadata": {},
   "source": [
    "## 1. Random numbers\n",
    "\n",
    "All randoms number must be sampled from some distribution. One example of sampling a random number is throwing a dice where one can obtain any integer number between $1$ and $6$ with equal probabilities. As getting every number from $1$ to $6$ is equally likely, we say we sample the numbers uniformly or from a uniform distribution. We can easily create a 'digital' dice with python with the function `np.random.randint(1,7)`. The code belows throws the dice five times and prints the results:"
   ]
  },
  {
   "cell_type": "code",
   "execution_count": null,
   "metadata": {},
   "outputs": [],
   "source": [
    "for i in range(5):\n",
    "    dice_result = np.random.randint(1,7)\n",
    "    print(\"Throw\", i+1, \":\", dice_result)"
   ]
  },
  {
   "cell_type": "markdown",
   "metadata": {},
   "source": [
    "To show that out digital dice is fair, we can simply throw the dice many times ($120,000$ times) and plot a histogram for the occurrences of each number. We can do this with the following:"
   ]
  },
  {
   "cell_type": "code",
   "execution_count": null,
   "metadata": {},
   "outputs": [],
   "source": [
    "all_results = []\n",
    "total_throws = 120000\n",
    "for i in range(total_throws):\n",
    "    dice_result = np.random.randint(1,7)\n",
    "    all_results.append(dice_result)\n",
    "    \n",
    "# Plot histogram of dice results\n",
    "num_throws, edges = np.histogram(all_results, bins=range(1,8))\n",
    "plt.bar(range(1,7), num_throws, alpha =0.5, edgecolor='black')\n",
    "plt.xlabel('Dice result', fontsize = 12);\n",
    "plt.ylabel('Probability', fontsize = 12);\n",
    "plt.ylabel('Number of throws', fontsize = 12);"
   ]
  },
  {
   "cell_type": "markdown",
   "metadata": {},
   "source": [
    "Although with some minor differences, every number in the dice was obtained the same number of times (~$20,000$ times). Thus, it seems it is a fair dice. We can easily translate this histogram into a probability distribution by dividing the number of throws of each number by the total number of throws. Doing this division, we obtain the probability distribution."
   ]
  },
  {
   "cell_type": "code",
   "execution_count": null,
   "metadata": {},
   "outputs": [],
   "source": [
    "# Plot disitrbution of dice results\n",
    "plt.bar(range(1,7), num_throws/total_throws, alpha =0.5, edgecolor='black')\n",
    "plt.xlabel('Probability distribution', fontsize = 12);\n",
    "plt.xlabel('Dice result', fontsize = 12);\n",
    "plt.ylabel('Probability', fontsize = 12);"
   ]
  },
  {
   "cell_type": "markdown",
   "metadata": {},
   "source": [
    "The height of each column is around $1/6\\approx 0.1666$, and it corresponds to the probability of rolling any given  number in the dice. The probability of rolling any number from $1$ to $6$ is the sum of the probabilities of each number. This means $1/6 + 1/6 + 1/6 + 1/6 + 1/6 + 1/6 = 1$. This is a universal property of probabilities. The probabilities of all the possible events, should always sum to one.\n",
    "\n",
    "### 1.1 Uniform distribution\n",
    "\n",
    "Random numbers are not limited to integer values like in a dice. For instance the function `np.random.uniform(xmin,xmax)` samples a random number uniformly in the interval $[xmin, xmax)$. We sample five values of this function with $x_\\text{min} = 0$ and $x_\\text{max}=100$:"
   ]
  },
  {
   "cell_type": "code",
   "execution_count": null,
   "metadata": {},
   "outputs": [],
   "source": [
    "xmin = 0\n",
    "xmax = 100\n",
    "for i in range(5):\n",
    "    random_number = np.random.uniform(xmin,xmax)\n",
    "    print(\"Trial\", i+1, \":\", random_number)"
   ]
  },
  {
   "cell_type": "markdown",
   "metadata": {},
   "source": [
    "We now show that the distribution of these numbers follows a uniform probability distribution. To do so, we separate our domain in $30$ bins to plot the histogram as before. To make sure it corresponds to a probability, we pass the argument `density=True` to the plotting function. This takes care of dividing the counts for each bin by the total number of trials automatically."
   ]
  },
  {
   "cell_type": "code",
   "execution_count": null,
   "metadata": {},
   "outputs": [],
   "source": [
    "all_numbers = []\n",
    "total_trials = 100000\n",
    "for i in range(total_trials):\n",
    "    random_number = np.random.uniform(xmin,xmax)\n",
    "    all_numbers.append(random_number)\n",
    "    \n",
    "# Plot histogram/distribution of random numbers\n",
    "plt.hist(all_numbers, bins=30, density = True, alpha =0.7, \n",
    "         edgecolor='black', label=\"Distribution of sampled numbers\")\n",
    "plt.plot([xmin,xmax], [1/(xmax - xmin),1/(xmax - xmin)], lw =2, label=\"Uniform distribution\")\n",
    "plt.title('Uniform distribution', fontsize = 12)\n",
    "plt.xlabel('Random number', fontsize = 12);\n",
    "plt.ylabel('Number of trials (normalized)', fontsize = 12);\n",
    "plt.legend(fontsize = 12)"
   ]
  },
  {
   "cell_type": "markdown",
   "metadata": {},
   "source": [
    "This distribution followed by the sampling numbers corresponds to a uniform distribution since every real number between $x_\\text{min}$ and $x_\\text{max}$ is sampled uniformly. Also note the area covered by the histogram is around $0.01 \\times 100 = 1$, in the same way as the probabilities of all the numbers in the dice sum to one. In general, we can represent the uniform distribution as a constant line, as plotted in the previous figure:\n",
    "\n",
    "$$\n",
    "\\rho_\\text{uniform} = 1/(x_\\text{max} - x_\\text{min})\n",
    "$$ \n",
    "\n",
    "with $x$ between $x_\\text{min}$ and $x_\\text{max}$, such that the area covered by the distribution, or more precisely, the integral of the distribution is equal to 1:\n",
    "\n",
    "$$\n",
    "\\int_{x_\\text{min}}^{x_\\text{max}}\\rho_\\text{uniform}dx = \\frac{x_\\text{max} - x_\\text{min}}{x_\\text{max} - x_\\text{min}} = 1\n",
    "$$\n",
    "\n",
    "### 1.2 Normal distribution\n",
    "\n",
    "Another famous distribution is the normal or Gaussian distribution. This distribution has the following form\n",
    "\n",
    "$$\n",
    "\\rho_\\text{normal}(x)=\\frac{1}{\\sigma\\sqrt{2\\pi}}\\exp \\Big( -\\frac{1}{2}\\left(\\frac{x-\\mu}{\\sigma}\\right)^2 \\Big),\n",
    "$$\n",
    "\n",
    "where $\\mu$ corresponds to the mean and $\\sigma$ to the standard deviation. It can be shown its integral from $-\\infty$ to $\\infty$ is always equal to one. Plotting this function, we obtain the shape of the normal distirbution. Try changing the mean and the variance to see how the distribution changes."
   ]
  },
  {
   "cell_type": "code",
   "execution_count": null,
   "metadata": {
    "tags": [
     "hide-input"
    ]
   },
   "outputs": [],
   "source": [
    "# Bokeh interactive plot code for normal distribution\n",
    "x = np.linspace(-4,4,60)\n",
    "y = 1/(np.sqrt(2 * np.pi)) * np.exp(-0.5*x**2)\n",
    "source = ColumnDataSource(data=dict(x=x, y=y))\n",
    "\n",
    "plot = figure(x_range=(-4, 4), y_range=(0, 1), plot_width=400, plot_height=300, tools=\"pan,wheel_zoom,reset\")\n",
    "plot.line('x', 'y', source=source, line_width=3, line_alpha=0.6)\n",
    "plot.title.text = 'Normal distribution'\n",
    "plot.title.text_font_size = '12pt'\n",
    "plot.toolbar.logo = None\n",
    "\n",
    "mu_slider = Slider(start=-3.5, end=3.5, value=0, step=.1, title=\"Mean\")\n",
    "sigma_slider = Slider(start=0.1, end=3, value=1, step=.1, title=\"Standard deviation\")\n",
    "\n",
    "callback = CustomJS(args=dict(source=source, mu=mu_slider, sigma=sigma_slider),\n",
    "                    code=\"\"\"\n",
    "    const data = source.data;\n",
    "    const mean = mu.value;\n",
    "    const stddev = sigma.value;\n",
    "    const x = data['x']\n",
    "    const y = data['y']\n",
    "    for (var i = 0; i < x.length; i++) {\n",
    "        y[i] = 1/(stddev * Math.sqrt(2 * Math.PI)) * Math.exp(-0.5*((x[i]-mean)/stddev)**2)\n",
    "    }\n",
    "    source.change.emit();\n",
    "\"\"\")\n",
    "\n",
    "mu_slider.js_on_change('value', callback)\n",
    "sigma_slider.js_on_change('value', callback)\n",
    "\n",
    "layout = row(\n",
    "    plot,\n",
    "    column(mu_slider, sigma_slider),\n",
    ")\n",
    "\n",
    "show(layout)"
   ]
  },
  {
   "cell_type": "markdown",
   "metadata": {},
   "source": [
    "This distirbution implies that numbers closer to the mean value $\\mu$ are much more likely to be sampled than those far away from the mean value. In python one can easily draw random numbers following this distribution by using the `np.random.normal(mu,sigma)` function:"
   ]
  },
  {
   "cell_type": "code",
   "execution_count": null,
   "metadata": {},
   "outputs": [],
   "source": [
    "mu = 0\n",
    "sigma = 1\n",
    "for i in range(5):\n",
    "    random_number = np.random.normal(mu,sigma)\n",
    "    print(\"Trial\", i+1, \":\", random_number)"
   ]
  },
  {
   "cell_type": "markdown",
   "metadata": {},
   "source": [
    "We denote a random number sampled from this dstirbution as $\\mathcal{N}(\\mu,\\sigma^2)$, where $\\sigma^2$ is the variance and corresponds to the standard deviation to the power of two. It is easy to test the sampled numbers actually follow a normal distribution. Lets sample a large number of values with this function and plot their distribution as before:"
   ]
  },
  {
   "cell_type": "code",
   "execution_count": null,
   "metadata": {},
   "outputs": [],
   "source": [
    "# Sample random values from a standard normal distibution\n",
    "values = []\n",
    "num_samples = 12000\n",
    "for i in range(num_samples):\n",
    "    r = np.random.normal(mu,sigma)\n",
    "    values.append(r)\n",
    "\n",
    "# Plot histogram of sampled numbers (normalized frequency distribution)\n",
    "plt.hist(values,30, density=True, alpha =0.7, label=\"Histogram of sampled numbers distribution\")\n",
    "    \n",
    "# Plot probability distribution    \n",
    "x = np.linspace(-4,4,60)\n",
    "y = 1/(np.sqrt(2 * np.pi)) * np.exp(-0.5*x**2)\n",
    "plt.plot(x,y, lw =2, label=\"Standard normal distribution\")\n",
    "plt.ylim([0,0.55])\n",
    "plt.legend(fontsize = 12);"
   ]
  },
  {
   "cell_type": "markdown",
   "metadata": {},
   "source": [
    "Now we know how to sample random numbers from uniform and normal/Gaussian distributions. "
   ]
  },
  {
   "cell_type": "markdown",
   "metadata": {},
   "source": [
    "## 2. Brownian motion and simulation\n",
    "\n",
    "In the beginning of this chapter, we were trying to model Brownian motion using the equation\n",
    "\n",
    "$$\n",
    "x(t+1) = x(t) + R\n",
    "$$\n",
    "\n",
    "However, we were still not sure what random number $R$ we should use. If you observe Brownian particles, they are likely to stay in the same area, small movements seem much more likely than large ones. Furthermore, it seems every direction is equally likely, so a natural candidate is a normal distribution with mean zero. How likely it is to go farther away, can be modulated by the standard deviation. We thus write the equation for the time evolution of the position of the Brownian particle as\n",
    "\n",
    "$$\n",
    "x(t+1) = x(t) +  \\mathcal{N}(0,\\sigma),\n",
    "$$ \n",
    "\n",
    "With this equation we can already simulate our first Brownian trajectory and plot it as a function of time."
   ]
  },
  {
   "cell_type": "code",
   "execution_count": null,
   "metadata": {},
   "outputs": [],
   "source": [
    "# One dimensional simulation of one Brownian particle\n",
    "sigma = 1\n",
    "max_steps = 250\n",
    "xlist=[0]\n",
    "for i in range(max_steps):\n",
    "    xcurrent = xlist[i] \n",
    "    xnew = xcurrent + sigma * np.random.normal(0,1)\n",
    "    xlist.append(xnew)\n",
    "\n",
    "# Plot position as function of time\n",
    "plt.plot(xlist, label=\"Brownian trajectory\")\n",
    "plt.xlabel(\"time\")\n",
    "plt.ylabel(\"position\")\n",
    "plt.legend();"
   ]
  },
  {
   "cell_type": "markdown",
   "metadata": {},
   "source": [
    "In the next interactive plot, we plot up to 200 trajectories. Move the slider to reduce or increase the number of trajectories being plotted. Do you see any pattern?"
   ]
  },
  {
   "cell_type": "code",
   "execution_count": null,
   "metadata": {
    "tags": [
     "hide-input"
    ]
   },
   "outputs": [],
   "source": [
    "# Calculate many 1D Brownian trajectories\n",
    "sigma = 1\n",
    "max_steps = 250\n",
    "num_trajectories = 200\n",
    "trajectories = []\n",
    "for n in range(num_trajectories):\n",
    "    # One dimensional simulation of one Brownian particle\n",
    "    xlist=[0]\n",
    "    for i in range(max_steps):\n",
    "        xcurrent = xlist[i] \n",
    "        xnew = xcurrent + sigma * np.random.normal(0,1)\n",
    "        xlist.append(xnew)\n",
    "    trajectories.append(xlist)\n",
    "\n",
    "time = np.array([range(max_steps)]*num_trajectories)\n",
    "#xpositions = positions[:,0]\n",
    "#ypositions = positions[:,1]\n",
    "\n",
    "mypalette = viridis(num_trajectories)\n",
    "alpha_array = [0.5]*num_trajectories\n",
    "\n",
    "source = ColumnDataSource(data=dict(t = time, trajs = trajectories, palette = mypalette, opacity = alpha_array))\n",
    "\n",
    "plot = figure(x_range=(0, max_steps), plot_width=450, plot_height=300, tools=\"pan,wheel_zoom,reset\") \n",
    "plot.title.text = '2D Brownian trajectory'\n",
    "plot.title.text_font_size = '12pt'\n",
    "plot.toolbar.logo = None\n",
    "\n",
    "plot.multi_line(xs=\"t\", ys='trajs', line_color='palette', line_alpha='opacity', line_width=2, source=source)\n",
    "\n",
    "num_trajs_slider = Slider(start=1, end=num_trajectories, \n",
    "                          value=num_trajectories, step=1, title=\"Number of trajectories\")\n",
    "\n",
    "callback = CustomJS(args=dict(source=source, num_trajs=num_trajs_slider),\n",
    "                    code=\"\"\"\n",
    "    const data = source.data;\n",
    "    const opacity = data['opacity']\n",
    "    const max_trajs = num_trajs.value;\n",
    "    for (var i = 0; i < opacity.length; i++) {\n",
    "        if (i < max_trajs) {\n",
    "            opacity[i] = 0.5\n",
    "        } else {\n",
    "            opacity[i] = 0.0\n",
    "        }\n",
    "    }\n",
    "    source.change.emit();\n",
    "\"\"\")\n",
    "\n",
    "num_trajs_slider.js_on_change('value', callback)\n",
    "\n",
    "layout = row(\n",
    "    plot,\n",
    "    column(num_trajs_slider),\n",
    ")\n",
    "\n",
    "show(layout)"
   ]
  },
  {
   "cell_type": "code",
   "execution_count": null,
   "metadata": {},
   "outputs": [],
   "source": [
    "# Bokeh interactive plot code\n",
    "# Many one dimensional Brownian trajectories.\n",
    "\n",
    "# Calculate many 1D Brownian trajectories\n",
    "sigma = 1\n",
    "max_steps = 250\n",
    "num_trajectories = 30\n",
    "trajectories = []\n",
    "for n in range(num_trajectories):\n",
    "    # One dimensional simulation of one Brownian particle\n",
    "    xlist=[0]\n",
    "    for i in range(max_steps):\n",
    "        xcurrent = xlist[i] \n",
    "        xnew = xcurrent + sigma * np.random.normal(0,1)\n",
    "        xlist.append(xnew)\n",
    "    trajectories.append(xlist)\n",
    "\n",
    "minval = np.min(positions)\n",
    "maxval = np.max(positions)\n",
    "\n",
    "xpositions = positions[:,0]\n",
    "ypositions = positions[:,1]\n",
    "\n",
    "source = ColumnDataSource(data=dict(x=xpositions, y=ypositions))\n",
    "original = ColumnDataSource(data=dict(x=xpositions, y=ypositions))\n",
    "source_dot = ColumnDataSource(data=dict(x=[xpositions[-1]], y=[ypositions[-1]]))\n",
    "\n",
    "\n",
    "plot = figure(x_range=(minval, maxval), y_range=(minval, maxval), plot_width=400, \n",
    "              plot_height=400, tools=\"pan,wheel_zoom,reset\") #toolbar_location=None)\n",
    "plot.title.text = '2D Brownian trajectory'\n",
    "plot.title.text_font_size = '12pt'\n",
    "plot.toolbar.logo = None\n",
    "\n",
    "trajectory = plot.line('x', 'y', source=source, line_width=2, line_alpha=0.6)\n",
    "particle = plot.circle('x', 'y', source=source_dot, size = 10, alpha=0.6, color=\"red\")\n",
    "\n",
    "legend = Legend(items=[('Brownian particle', [particle]), \n",
    "                       ('Brownian trajectory', [trajectory])], \n",
    "                orientation=\"horizontal\")\n",
    "plot.add_layout(legend, 'below')\n",
    "legend.click_policy=\"hide\"\n",
    "\n",
    "\n",
    "time_slider = Slider(start=0, end=max_steps-1, value=max_steps-1, step=1, title=\"Time\")\n",
    "\n",
    "callback = CustomJS(args=dict(source=source, source_dot=source_dot, original=original, time=time_slider),\n",
    "                    code=\"\"\"\n",
    "    const data = source.data;\n",
    "    const data_dot = source_dot.data;\n",
    "    const original_data = original.data\n",
    "    const t = time.value;\n",
    "    const x = data['x']\n",
    "    const y = data['y']\n",
    "    const xtrue = original_data['x']\n",
    "    const ytrue = original_data['y']\n",
    "    const xdot = data_dot['x']\n",
    "    const ydot = data_dot['y']\n",
    "    for (var i = 0; i < x.length; i++) {\n",
    "        if (i < t) {\n",
    "            x[i] = xtrue[i]\n",
    "            y[i] = ytrue[i]\n",
    "        } else {\n",
    "            x[i] = xtrue[t]\n",
    "            y[i] = ytrue[t]\n",
    "        }\n",
    "    }\n",
    "    xdot[0] = xtrue[t] \n",
    "    ydot[0] = ytrue[t] \n",
    "    source.change.emit();\n",
    "    source_dot.change.emit();\n",
    "\"\"\")\n",
    "\n",
    "time_slider.js_on_change('value', callback)\n",
    "\n",
    "layout = row(\n",
    "    plot,\n",
    "    column(time_slider),\n",
    ")\n",
    "\n",
    "show(layout)"
   ]
  },
  {
   "cell_type": "markdown",
   "metadata": {},
   "source": [
    "To model something closer to reality, we can easily extend this to two or more dimensions by sampling a random number the same way for each additional axis. Thus we can simulate a Brownian trajectory in two dimensions and plot it as follows"
   ]
  },
  {
   "cell_type": "code",
   "execution_count": null,
   "metadata": {},
   "outputs": [],
   "source": [
    "# Two dimensional simulation of one Brownian particle\n",
    "mu = 0\n",
    "sigma = 1\n",
    "dimension = 2\n",
    "max_steps = 401\n",
    "positions = np.zeros([max_steps, 2]) # initial position (0,0)\n",
    "sigma = 1\n",
    "for t in range(max_steps - 1):\n",
    "    positions[t+1] = positions[t] + sigma * np.random.normal(mu,sigma,dimension)"
   ]
  },
  {
   "cell_type": "markdown",
   "metadata": {},
   "source": [
    "where the function `np.random.normal(mu,sigma,dimension)` now accepts a third argument corresponding to the dimension. This function outputs two independently sampled normal numbers, one for each dimension. We can further use this data to produce an interactive plot. You can adjust the time slider to see the movement of the Brownian particle through time. The code to produce the interactive plot is also available."
   ]
  },
  {
   "cell_type": "code",
   "execution_count": null,
   "metadata": {
    "tags": [
     "hide-input"
    ]
   },
   "outputs": [],
   "source": [
    "# Bokeh interactive plot code\n",
    "minval = np.min(positions)\n",
    "maxval = np.max(positions)\n",
    "\n",
    "xpositions = positions[:,0]\n",
    "ypositions = positions[:,1]\n",
    "\n",
    "source = ColumnDataSource(data=dict(x=xpositions, y=ypositions))\n",
    "original = ColumnDataSource(data=dict(x=xpositions, y=ypositions))\n",
    "source_dot = ColumnDataSource(data=dict(x=[xpositions[-1]], y=[ypositions[-1]]))\n",
    "\n",
    "\n",
    "plot = figure(x_range=(minval, maxval), y_range=(minval, maxval), plot_width=400, \n",
    "              plot_height=400, tools=\"pan,wheel_zoom,reset\") #toolbar_location=None)\n",
    "plot.title.text = '2D Brownian trajectory'\n",
    "plot.title.text_font_size = '12pt'\n",
    "plot.toolbar.logo = None\n",
    "\n",
    "trajectory = plot.line('x', 'y', source=source, line_width=2, line_alpha=0.6)\n",
    "particle = plot.circle('x', 'y', source=source_dot, size = 10, alpha=0.6, color=\"red\")\n",
    "\n",
    "legend = Legend(items=[('Brownian particle', [particle]), \n",
    "                       ('Brownian trajectory', [trajectory])], \n",
    "                orientation=\"horizontal\")\n",
    "plot.add_layout(legend, 'below')\n",
    "legend.click_policy=\"hide\"\n",
    "\n",
    "\n",
    "time_slider = Slider(start=0, end=max_steps-1, value=max_steps-1, step=1, title=\"Time\")\n",
    "\n",
    "callback = CustomJS(args=dict(source=source, source_dot=source_dot, original=original, time=time_slider),\n",
    "                    code=\"\"\"\n",
    "    const data = source.data;\n",
    "    const data_dot = source_dot.data;\n",
    "    const original_data = original.data\n",
    "    const t = time.value;\n",
    "    const x = data['x']\n",
    "    const y = data['y']\n",
    "    const xtrue = original_data['x']\n",
    "    const ytrue = original_data['y']\n",
    "    const xdot = data_dot['x']\n",
    "    const ydot = data_dot['y']\n",
    "    for (var i = 0; i < x.length; i++) {\n",
    "        if (i < t) {\n",
    "            x[i] = xtrue[i]\n",
    "            y[i] = ytrue[i]\n",
    "        } else {\n",
    "            x[i] = xtrue[t]\n",
    "            y[i] = ytrue[t]\n",
    "        }\n",
    "    }\n",
    "    xdot[0] = xtrue[t] \n",
    "    ydot[0] = ytrue[t] \n",
    "    source.change.emit();\n",
    "    source_dot.change.emit();\n",
    "\"\"\")\n",
    "\n",
    "time_slider.js_on_change('value', callback)\n",
    "\n",
    "layout = row(\n",
    "    plot,\n",
    "    column(time_slider),\n",
    ")\n",
    "\n",
    "show(layout)"
   ]
  },
  {
   "cell_type": "markdown",
   "metadata": {},
   "source": [
    "Note every time the code is simulated the trajectory will be different since it is resampled every time.\n",
    "\n",
    "```{Note}\n",
    "This is actually a discretization of a stochastic differential equation: \n",
    "\n",
    "$$\n",
    "dX_t=\\sigma dW_t,\n",
    "$$\n",
    "\n",
    "which is the equation that describes standard Brownian motion. The required mathematics to understand this equation are beyond the scope of this book, but the interested reader can investigate further on its own. Our simulation of Brownian trajectories presented above corresponds to a numerical discretization of this equation called Euler-Maruyama (assuming time intervals of length one).\n",
    "```"
   ]
  },
  {
   "cell_type": "markdown",
   "metadata": {},
   "source": [
    "## 3. Emergence of diffusion equation"
   ]
  },
  {
   "cell_type": "markdown",
   "metadata": {},
   "source": [
    "Although each Brownian particle follows a random trajectory, from the motion of a large collection/ensemble of these particles emerges a deterministic and predictable behavior. Mathematically one can show that from the ensemble dynamics of many Brownian particles a deterministic diffusion equation emerges. As these calculations are beyond the scope of this lecture, we derive the diffusion equation in a simpler way, and we later use a numerical approach to show the emergence of diffusion. In this case, the diffusion equation corresponds to the macroscopic theory (top). One of the main features of the macroscopic theory here is that it is deterministic and thus has a strong predictive power.\n",
    "\n",
    "We begin with a derivation of the diffusion equation. As mass is conserved, we can write an equation for the conservation of Brownian particles. This will be in the form of a differential equations, which is nothing more than an equation that involves derivatives. Assume again the concentration of Brownian particles is $\\rho(x,t)$, where we now make the concentration time-dependent. We keep the one dimensional assumption to keep things simple. Then the conservation of particles can be written as follows:\n",
    "\n",
    "$$\n",
    "\\frac{\\partial \\rho}{\\partial t} = \\frac{J(x+\\Delta x) - J(x)}{\\Delta x}\n",
    "$$\n",
    "\n",
    "where $J$ is the flux of particles. The equation means that the change of number of particles in a small volume $\\Delta x$ during an infinitesimal time interval equals to the number of particles that flowed into the volume minus the ones that flowed out of it during that time interval. Of course one can take the limit as $\\Delta x \\rightarrow 0$ to obtain \n",
    "\n",
    "$$\n",
    "\\frac{\\partial \\rho}{\\partial t} + \\frac{\\partial}{\\partial x} J = 0,\n",
    "$$\n",
    "\n",
    "We can substitute Fick's law into this equation and obtain\n",
    "\n",
    "$$\n",
    "\\frac{\\partial \\rho}{\\partial t} = -\\frac{\\partial}{\\partial x} \\Big( -D \\frac{\\partial \\rho(x)}{\\partial x} \\Big),\n",
    "$$\n",
    "\n",
    "which simplifies to\n",
    "\n",
    "$$\n",
    "\\frac{\\partial \\rho}{\\partial t} = D\\frac{\\partial^2 \\rho(x)}{\\partial x^2}.\n",
    "$$\n",
    "\n",
    "This is another differential equation (partial differential equation), called the diffusion equation. We won't solve it here, but its solution is quite simple. Assuming all the particles are concentrated at $x=0$ at time 0, the solution is\n",
    "\n",
    "$$\n",
    "\\rho(x,t) = \\frac{1}{ \\sqrt{4\\pi D t}} \\exp \\Big( -\\frac{x^2}{4Dt}\\Big).\n",
    "$$\n",
    "\n",
    "This is a function of time and space, so to better understand it, we can do a small animation of the solution"
   ]
  },
  {
   "cell_type": "code",
   "execution_count": null,
   "metadata": {},
   "outputs": [],
   "source": [
    "# Define difussion coefficient\n",
    "D = 1\n",
    "\n",
    "# Define plotting solution function\n",
    "def rho_plot(time):\n",
    "    x = np.linspace(-5,5,25)\n",
    "    A = 1/np.sqrt(4 * np.pi * D * time)\n",
    "    rho = A * np.exp(-x*x/(4 * D * time))\n",
    "    plt.plot(x,rho)\n",
    "    plt.ylim(0,0.5)\n",
    "    plt.ylabel(r'$\\rho(x)$')\n",
    "    plt.xlabel(r'$x$')\n",
    "\n",
    "# Create interactive plot\n",
    "interact(rho_plot,time=(0.1,5,0.5));"
   ]
  },
  {
   "cell_type": "markdown",
   "metadata": {},
   "source": [
    "Although here we used Fick's law to derive the diffusion equation, it is not neccesary. It can be derived directly from the microscopic Brownian dynamics. However, that is beyond the scope of this lecture, so we will try to show that this is true by doing numerical simulations."
   ]
  },
  {
   "cell_type": "markdown",
   "metadata": {},
   "source": [
    "## 4. Numerical validation of emergent diffusion"
   ]
  },
  {
   "cell_type": "markdown",
   "metadata": {},
   "source": [
    "In this section, we will show how the diffusion equation for the concentration of Brownian particles emerges from the microscopic dynamics of individual Brownian particles. In order to do so, we will follow the next steps:\n",
    " \n",
    " 1. Simulate a large number of identical Brownian particles in one dimension.\n",
    " 2. Discretize space in intevals of equal length.\n",
    " 3. Calculate the corresponding concentration of Brownian particles on each interval.\n",
    " 4. Plot the concentration as a histogram for different times\n"
   ]
  },
  {
   "cell_type": "code",
   "execution_count": null,
   "metadata": {},
   "outputs": [],
   "source": [
    "x0 = 0 # initial position for all particles\n",
    "sigma = 1\n",
    "max_steps = 250\n",
    "num_particles = 500\n",
    "\n",
    "# Function to integrate the trajetory of one Brownian particle in one dimension (x0 initial position)\n",
    "def integrate_brownian(xinitial):\n",
    "    xlist=[xinitial]\n",
    "    for i in range(max_steps):\n",
    "        xcurrent = xlist[i] \n",
    "        xnew = xcurrent + sigma * np.random.normal(0,1)\n",
    "        xlist.append(xnew)\n",
    "    return np.array(xlist)\n",
    "\n",
    "# Integrate Brownian trajetory of all Brownian particles and saves all the data into\n",
    "# brownian_trajectories (calls integrate_brownian)\n",
    "brownian_trajectories = []\n",
    "for i in range(num_particles):\n",
    "    brownian_trajectory = integrate_brownian(x0)\n",
    "    brownian_trajectories.append(brownian_trajectory)\n",
    "\n",
    "# Function to extract positions of all the Brownian particles at a given time step    \n",
    "def extract_positions(timestep):\n",
    "    positions = []\n",
    "    for i in range(num_particles):\n",
    "        positions.append(brownian_trajectories[i][timestep])\n",
    "    return positions\n",
    "\n",
    "# Function to plot the histogram of the particles distribution at a given time step\n",
    "def plot_particles_distribution(timestep):\n",
    "    positions = extract_positions(timestep)\n",
    "    plt.hist(positions, 30, density=True, label=\"Distribution of Brownian particles\")\n",
    "    plt.xlim([-50,50])\n",
    "    plt.ylim([0,0.1])\n",
    "    plt.legend()\n",
    "\n",
    "# Interactive plot of particles distribution\n",
    "interact(plot_particles_distribution, timestep=(1,max_steps,10));"
   ]
  },
  {
   "cell_type": "markdown",
   "metadata": {},
   "source": [
    "This looks very similar to the profile obtained when solving the diffusion equation. Note we used $\\sigma =1$ for the simulation. There is actually a relation between sigma and the diffusion coefficient \n",
    "\n",
    "$$\n",
    "D = \\frac{\\sigma^2}{2}.\n",
    "$$\n",
    "\n",
    "We will leave this derivation for an excercise. If $\\sigma=1$, then $D=1/2$. As the solution of the diffusion equation we know is \n",
    "\n",
    "$$\n",
    "\\rho(x) = \\frac{1}{ \\sqrt{4\\pi D t}} \\exp \\Big( -\\frac{x^2}{4Dt}\\Big).\n",
    "$$\n",
    "\n",
    "We can compare it with our result:"
   ]
  },
  {
   "cell_type": "code",
   "execution_count": null,
   "metadata": {
    "tags": [
     "hide-input"
    ]
   },
   "outputs": [],
   "source": [
    "D = 1/2\n",
    "xdomain = np.linspace(-50, 50, 100)\n",
    "hist_list = []\n",
    "leftedges_list = []\n",
    "rightedges_list = []\n",
    "pdf_list = []\n",
    "for i in range(max_steps):\n",
    "    time = i+1\n",
    "    positions_particles = extract_positions(time)\n",
    "    hist, edges = np.histogram(positions_particles, density=True, bins=30)\n",
    "    hist_list.append(hist)\n",
    "    leftedges_list.append(edges[:-1])\n",
    "    rightedges_list.append(edges[1:])\n",
    "    pdf = 1/np.sqrt(4 * np.pi * D * time) * np.exp(-xdomain*xdomain/(4 * D * time))\n",
    "    pdf_list.append(pdf)\n",
    "\n",
    "\n",
    "sourceHist = ColumnDataSource(data=dict(hist_data= hist_list[max_steps-1], \n",
    "                                        leftedges_data = leftedges_list[max_steps-1],\n",
    "                                        rightedges_data = rightedges_list[max_steps-1]))\n",
    "sourcePDF = ColumnDataSource(data=dict(x=xdomain, pdf_data=pdf_list[max_steps-1]))\n",
    "sourceMain = ColumnDataSource(data=dict(hist_data= hist_list, \n",
    "                                        leftedges_data = leftedges_list,\n",
    "                                        rightedges_data = rightedges_list,\n",
    "                                        pdf_data = pdf_list))\n",
    "\n",
    "\n",
    "\n",
    "plot = figure(x_range=(-50,50), y_range=(0,0.2), plot_width=400, plot_height=400, tools=\"pan,wheel_zoom,reset\")\n",
    "plot.title.text = '2D Brownian trajectory'\n",
    "plot.title.text_font_size = '12pt'\n",
    "plot.toolbar.logo = None\n",
    "\n",
    "histogram = plot.quad(top='hist_data', bottom=0, left='leftedges_data', \n",
    "                      right='rightedges_data', source = sourceHist, alpha=0.6)\n",
    "distribution = plot.line('x', 'pdf_data', source = sourcePDF, line_color=\"orange\", line_width=4, alpha=0.7)\n",
    "\n",
    "legend = Legend(items=[('Distribution of Brownian particles', [histogram]), \n",
    "                       ('Diffusion equation solution', [distribution])])\n",
    "plot.add_layout(legend)\n",
    "legend.click_policy=\"hide\"\n",
    "\n",
    "plot.xaxis.axis_label = 'x'\n",
    "plot.yaxis.axis_label = 'Pr(x)'\n",
    "\n",
    "time_slider = Slider(start=1, end=max_steps, value=max_steps, step=1, title=\"Time\")\n",
    "\n",
    "callback = CustomJS(args=dict(sourceHist=sourceHist, sourcePDF=sourcePDF, sourceMain=sourceMain, time=time_slider),\n",
    "                    code=\"\"\"\n",
    "    const dataHist = sourceHist.data;\n",
    "    const dataPDF = sourcePDF.data;\n",
    "    const dataMain = sourceMain.data;\n",
    "    \n",
    "    const t = time.value - 1;\n",
    "    const x = dataPDF['x'];\n",
    "    const pdf = dataPDF['pdf_data'];\n",
    "    const hist_data = dataHist['hist_data'];\n",
    "    const leftedges_data = dataHist['leftedges_data'];\n",
    "    const rightedges_data = dataHist['rightedges_data'];\n",
    "    \n",
    "    const pdf_main = dataMain['pdf_data'];\n",
    "    const hist_data_main = dataMain['hist_data'];\n",
    "    const leftedges_data_main = dataMain['leftedges_data'];\n",
    "    const rightedges_data_main = dataMain['rightedges_data'];\n",
    "\n",
    "    \n",
    "    for (var i = 0; i < x.length; i++) {\n",
    "        pdf[i] = pdf_main[t][i]\n",
    "    }\n",
    "    for (var i = 0; i < hist_data.length; i++) {\n",
    "        hist_data[i] = hist_data_main[t][i];\n",
    "        leftedges_data[i] = leftedges_data_main[t][i];\n",
    "        rightedges_data[i] = rightedges_data_main[t][i];\n",
    "    }\n",
    "        \n",
    "    sourceHist.change.emit();\n",
    "    sourcePDF.change.emit();\n",
    "\"\"\")\n",
    "\n",
    "time_slider.js_on_change('value', callback)\n",
    "\n",
    "layout = row(\n",
    "    plot,\n",
    "    column(time_slider),\n",
    ")\n",
    "\n",
    "show(layout)"
   ]
  },
  {
   "cell_type": "markdown",
   "metadata": {},
   "source": [
    "This shows the macroscopic diffusion is really an emergent behavior from the ensemble of microscopic Brownian particles. Note that using Einstein's relation, we can write the dynamics of the Brownian walkers as\n",
    "\n",
    "$$\n",
    "x(t+1) = x(t) + \\sqrt{2D}\\mathcal{N}(0,1)  \\\\[5mm]\n",
    "       = x(t) + \\sqrt{\\frac{2k_B T}{\\gamma}}\\mathcal{N}(0,1),\n",
    "$$\n",
    "\n",
    "where $\\Delta t= 1$. For a general $\\Delta t$ it can be written as \n",
    "\n",
    "$$\n",
    "x(t+\\Delta t) = x(t) + \\sqrt{\\frac{2k_B T \\Delta t}{\\gamma}}\\mathcal{N}(0,1),\n",
    "$$\n",
    "\n",
    "which corresponds to the discretization of the stochastic differential equation\n",
    "\n",
    "$$\n",
    "dX_t = \\sqrt{\\frac{2k_B T}{\\gamma}} dW_t.\n",
    "$$\n",
    "\n",
    "However, this is beyond the scope of this lecture. Further investigation of this topic is left as a possible project."
   ]
  },
  {
   "cell_type": "markdown",
   "metadata": {},
   "source": [
    "## 5. Concluding remarks\n",
    "\n",
    "- We derived the Einstein relation that establishes a relation between diffusion and dissipation in Brownian particles. This is a fundamental result to connect the microscopic world described by the dynamics of particles with the macroscopic emergent phenomena such as diffusion. \n",
    "\n",
    "- We introduced the dynamics of individual Brownian particles through a simulation scheme, and we showed how it can be extended to two (or more) dimensions. We hint at the connection to the field of stochastic differential equations, which is the mathematically correct approach to understand Brownian motion. This theory correspond to the microscopic theory (bottom).\n",
    "\n",
    "- We showed that the diffusion equation emerges from the dynamics of a large number of Brownian particles. This corresponds to the macroscopic theory (top). Although we used Fick's law (an emergent law) to derive the equation. It can be done without it, but it requires more advanced techniques. This is left as a possible project.\n",
    "\n",
    "- To really show the macroscopic diffusion emerges from the dynamics of a large number of individual Brownian particles, we implemented numerical validation, and we compared the results with the solution to the corresponding diffusion equation. We finally show the final form of the stochastic differential equation for Brownian motion.\n",
    "\n",
    "The studies of Brownian motion not only provided a physical theory to describe Brownian movement; they also gave birth to the field of stochastic differential equations. These equations describe trajectories that are nowhere differentiable, such as idealized Brownian trajectories, and thus require a different type of calculus called Ito calculus. Furthermore, each system of stochastic differential equations has a corresponding emergent \"diffusion\" equation called the Fokker-Planck equation. This yields a fundamental duality; the stochastic dynamics of individual particles/agents together with the probabilistc dynamics of an ensemble of identical particles/agents are two sides of the same underlying process, an stochastic process. Today, these equations are used in applications ranging from molecular biology to financial mathematics. "
   ]
  },
  {
   "cell_type": "markdown",
   "metadata": {},
   "source": [
    "## Historical background overview\n",
    "(based on {cite}`nelson2020dynamical` Dynamical theories of Brownian motion by Edward Nelson)\n",
    "- In the early 1800's, the botanist Robert Brown studied the apparently random movement of pollen particles suspended in water, now called Brownian motion. Since practically anyone looking at water through a microscope was able to see little things moving around, he did not discover Brownian motion. However, he did establish Brownian motion as an important phenomenon, and he ruled out the hypothesis that the effect was life-related.\n",
    "- The phenomenon continued to be studied by several scientists. By 1905, the kinetic theory, that Brownian motion of microscopic particles is caused by bombardment by the molecules of the fluid, seemed the most plausible. However, the attempts failed due to the fractal nature of the velocity of Brownian particles.\n",
    "- In 1905, Einstein's publishes in one of his Annus Mirabilis papers, where he developed the statistical mechanics and the molecular-kinetic theory of thermodynamics. He did this mostly unaware of the existence of the phenomenon and previous studies. The theory was correct and described consistently the experimental observations of Brownian motion.\n",
    "- Despite having developed a succesful theory, Einstein's theory does not give a dynamical theory of Brownian motion; it only determines the nature of the motion and the value of the diffusion coefficient on the basis of some assumptions. Smoluchowski and Langevin, independently from Einstein, attempted a dynamical theory, and arrived to similar results. These dynamic theory of Brownian motion was the birth of the field of stochastic differential equations.\n",
    "- The agreement of these considerations with experience together with Planck’s determination of the true molecular size from the law of radiation (for high temperatures) convinced the sceptics, who were quite numerous at that time (Ostwald, Mach) of the reality of atoms."
   ]
  },
  {
   "cell_type": "markdown",
   "metadata": {},
   "source": [
    "## Exercises"
   ]
  },
  {
   "cell_type": "markdown",
   "metadata": {},
   "source": [
    "1. What is the Einstein's relation for a spherical particle with radius R in a liquid with low Reynolds number and viscosity $\\eta$?   (Hint: Investigate the friction of a spherical particle under these conditions and note the friction force equals the velocity times the friction coefficient.)\n",
    "\n",
    "\n",
    "2. The equation for the time evolution of the position of the Brownian particle as $ x(t+1) = x(t) + \\sigma \\mathcal{N}(0,1)$ (since we assumed $\\Delta t = 1$). Add a term of the form $-\\theta x(t)$ with theta a positive constant, then modify the code and implement a simulation of its trajectory in one dimension starting at $x=0$, $\\theta=0.01$ and $\\sigma = 1$. Plot the position as a function of time. Can you notice anything different? If you don't try plotting the solution for a larger time interval (increase max_steps) and compare with the Brownian motion case $\\theta = 0$.  \n",
    "    \n",
    "    Remember adding the lines \"*import numpy as np*\" and \"*import matplotlib.pyplot as plt*\" at the beginning of your notebook.\n",
    "    \n",
    "\n",
    "3. The process simulated in excercise 2 is called ''the Ornstein–Uhlenbeck process''. Investigate its corresponding 'diffusion' equation. In the literature, the 'diffusion' equation for an arbitrary process is refered as the Fokker-Planck equation. What type of equation is this?\n",
    "\n",
    "\n",
    "4. The solution of the Fokker-Planck equation for the Ornstein–Uhlenbeck process from excercise 3 has the form:\n",
    "\n",
    "    $$\n",
    "    \\rho(x,t) = \\sqrt{\\frac{\\theta}{2\\pi D (1-e^{-2\\theta t})}} \\exp{\\Bigg(-\\frac{\\theta x^2}{2D (1-e^{-2\\theta t})} \\Bigg)},\n",
    "    $$\n",
    "    assuming all the particles are concentrated at $x=0$ at time $t=0$.\n",
    "\n",
    "    Numerically show how a large collection of simulated trajectories (excercise 2) produce an emergent behavior by plotting a histogram of the particles distribution. Remember we used $\\sigma =1$ and $\\theta =0.01$. Check this behavior matches the one given by the solution to the corresponding Fokker-Planck equation. (Hint: Copy and modify the code in section 4 of the lecture. To run the code you might need to install ipywidgets to be able to import \"*from ipywidgets import interact*\")"
   ]
  },
  {
   "cell_type": "markdown",
   "metadata": {},
   "source": [
    "```{bibliography} ../_bibliography/references.bib\n",
    ":style: unsrt\n",
    ":filter: docname in docnames\n",
    "```"
   ]
  },
  {
   "cell_type": "code",
   "execution_count": null,
   "metadata": {},
   "outputs": [],
   "source": [
    "# Simple Bokeh plot  \n",
    "xpositions = positions[:,0]\n",
    "ypositions = positions[:,1]\n",
    "plot = figure(plot_width=300, plot_height=250, match_aspect=True, tools=\"pan,wheel_zoom,reset\")\n",
    "plot.line(xpositions, ypositions, line_width=2, line_alpha=0.6)\n",
    "plot.toolbar.logo = None\n",
    "show(plot)"
   ]
  }
 ],
 "metadata": {
  "kernelspec": {
   "display_name": "Python 3",
   "language": "python",
   "name": "python3"
  },
  "language_info": {
   "codemirror_mode": {
    "name": "ipython",
    "version": 3
   },
   "file_extension": ".py",
   "mimetype": "text/x-python",
   "name": "python",
   "nbconvert_exporter": "python",
   "pygments_lexer": "ipython3",
   "version": "3.8.5"
  }
 },
 "nbformat": 4,
 "nbformat_minor": 4
}
